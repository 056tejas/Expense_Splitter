{
 "cells": [
  {
   "cell_type": "code",
   "execution_count": 3,
   "id": "b805bdfd",
   "metadata": {},
   "outputs": [
    {
     "name": "stdout",
     "output_type": "stream",
     "text": [
      "Requirement already satisfied: simple_colors in c:\\users\\hp\\appdata\\roaming\\python\\python311\\site-packages (0.1.5)\n",
      "Note: you may need to restart the kernel to use updated packages.\n"
     ]
    }
   ],
   "source": [
    "pip install simple_colors"
   ]
  },
  {
   "cell_type": "code",
   "execution_count": 4,
   "id": "83f53a5a",
   "metadata": {},
   "outputs": [],
   "source": [
    "import simple_colors as color"
   ]
  },
  {
   "cell_type": "code",
   "execution_count": 5,
   "id": "95dc2e68",
   "metadata": {},
   "outputs": [
    {
     "name": "stdout",
     "output_type": "stream",
     "text": [
      "Requirement already satisfied: pyfiglet in c:\\users\\hp\\anaconda3\\lib\\site-packages (0.8.post1)\n",
      "Note: you may need to restart the kernel to use updated packages.\n"
     ]
    }
   ],
   "source": [
    "pip install pyfiglet"
   ]
  },
  {
   "cell_type": "code",
   "execution_count": null,
   "id": "8fb74df7",
   "metadata": {},
   "outputs": [],
   "source": []
  },
  {
   "cell_type": "code",
   "execution_count": 13,
   "id": "62a9a8d1",
   "metadata": {},
   "outputs": [
    {
     "name": "stdout",
     "output_type": "stream",
     "text": [
      "\u001b[34m    ______                                   _____       ___ __  __           \n",
      "   / ____/  ______  ___  ____  ________     / ___/____  / (_) /_/ /____  _____\n",
      "  / __/ | |/_/ __ \\/ _ \\/ __ \\/ ___/ _ \\    \\__ \\/ __ \\/ / / __/ __/ _ \\/ ___/\n",
      " / /____>  </ /_/ /  __/ / / (__  )  __/   ___/ / /_/ / / / /_/ /_/  __/ /    \n",
      "/_____/_/|_/ .___/\\___/_/ /_/____/\\___/   /____/ .___/_/_/\\__/\\__/\\___/_/     \n",
      "          /_/                                 /_/                             \n",
      "\u001b[0m\n",
      "\u001b[32m\t\t\tYour Persnolized Expense Splitter.\u001b[0m\n",
      "\u001b[1;31m===========================================================================================\n",
      "\u001b[0m\n",
      "Username: user1\n",
      "Password: password1\n",
      "\u001b[1;32m\n",
      "Login successful!\u001b[0m\n",
      "Enter the number of participants: 3\n",
      "\n",
      "Enter participant's name: Drax\n",
      "\n",
      "Enter participant's name: Groot\n",
      "\n",
      "Enter participant's name: Nicki\n",
      "\n",
      "Enter the number of expenses: 3\n",
      "\n",
      "Enter expense description: Food\n",
      "Enter expense amount(in $): 3675\n",
      "\n",
      "Enter expense description: Hotel\n",
      "Enter expense amount(in $): 11765\n",
      "\n",
      "Enter expense description: Transportation\n",
      "Enter expense amount(in $): 8987\n",
      "\u001b[1;33m\n",
      "Expense Summary:\u001b[0m\n",
      "Drax: $8142.33\n",
      "Groot: $8142.33\n",
      "Nicki: $8142.33\n",
      "\u001b[33m\n",
      "Expenses:\u001b[0m\n",
      "Food: $3675.00\n",
      "Hotel: $11765.00\n",
      "Transportation: $8987.00\n"
     ]
    }
   ],
   "source": [
    "import pyfiglet\n",
    "\n",
    "def display_logo():\n",
    "    logo = (color.blue(pyfiglet.figlet_format(\"\\t\\tExpense Splitter\", font=\"slant\")))\n",
    "    print(logo)\n",
    "\n",
    "\n",
    "def login():\n",
    "    display_logo()\n",
    "    print(color.green(\"\\t\\t\\tYour Persnolized Expense Splitter.\"))\n",
    "    print(color.red(\"===========================================================================================\\n\",'bold'))\n",
    "    username = input(\"Username: \")\n",
    "    password = input(\"Password: \")\n",
    "\n",
    "    users = {\n",
    "        \"user1\": \"password1\",\n",
    "        \"user2\": \"password2\"\n",
    "    }\n",
    "\n",
    "    if username in users and password == users[username]:\n",
    "        print(color.green(\"\\nLogin successful!\",'bold'))\n",
    "        return True\n",
    "    else:\n",
    "        print(color.red(\"\\nLogin failed.\"))\n",
    "        return False\n",
    "\n",
    "def add_participant(participants, name):\n",
    "    participants[name] = 0\n",
    "\n",
    "def add_expense(expenses, description, amount):\n",
    "    expenses[description] = amount\n",
    "\n",
    "def calculate_expenses(participants, expenses):\n",
    "    total_expenses = sum(expenses.values())\n",
    "    num_participants = len(participants)\n",
    "    individual_share = total_expenses / num_participants\n",
    "\n",
    "    for participant in participants:\n",
    "        participants[participant] = individual_share\n",
    "\n",
    "def display_summary(participants, expenses):\n",
    "    print(color.yellow(\"\\nExpense Summary:\",'bold'))\n",
    "    for participant, amount in participants.items():\n",
    "        print(f\"{participant}: ${amount:.2f}\")\n",
    "    print(color.yellow(\"\\nExpenses:\"))\n",
    "    for description, amount in expenses.items():\n",
    "        print(f\"{description}: ${amount:.2f}\")\n",
    "\n",
    "def main():\n",
    "    if not login():\n",
    "        return\n",
    "\n",
    "    participants = {}\n",
    "    expenses = {}\n",
    "\n",
    "    num_participants = int(input(\"Enter the number of participants: \"))\n",
    "    for _ in range(num_participants):\n",
    "        name = input(\"\\nEnter participant's name: \")\n",
    "        add_participant(participants, name)\n",
    "\n",
    "    num_expenses = int(input(\"\\nEnter the number of expenses: \"))\n",
    "    for _ in range(num_expenses):\n",
    "        description = input(\"\\nEnter expense description: \")\n",
    "        amount = float(input(\"Enter expense amount(in $): \"))\n",
    "        add_expense(expenses, description, amount)\n",
    "\n",
    "    calculate_expenses(participants, expenses)\n",
    "    display_summary(participants, expenses)\n",
    "\n",
    "if __name__ == \"__main__\":\n",
    "    main()\n"
   ]
  },
  {
   "cell_type": "code",
   "execution_count": null,
   "id": "bcbc848c",
   "metadata": {},
   "outputs": [],
   "source": []
  }
 ],
 "metadata": {
  "kernelspec": {
   "display_name": "Python 3 (ipykernel)",
   "language": "python",
   "name": "python3"
  },
  "language_info": {
   "codemirror_mode": {
    "name": "ipython",
    "version": 3
   },
   "file_extension": ".py",
   "mimetype": "text/x-python",
   "name": "python",
   "nbconvert_exporter": "python",
   "pygments_lexer": "ipython3",
   "version": "3.11.3"
  }
 },
 "nbformat": 4,
 "nbformat_minor": 5
}
