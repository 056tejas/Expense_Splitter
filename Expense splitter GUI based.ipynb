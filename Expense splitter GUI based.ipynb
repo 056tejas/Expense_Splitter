{
 "cells": [
  {
   "cell_type": "code",
   "execution_count": 1,
   "id": "4733fdf5",
   "metadata": {},
   "outputs": [
    {
     "name": "stdout",
     "output_type": "stream",
     "text": [
      "Requirement already satisfied: tk in c:\\users\\hp\\anaconda3\\lib\\site-packages (0.1.0)\n",
      "Note: you may need to restart the kernel to use updated packages.\n"
     ]
    }
   ],
   "source": [
    "pip install tk"
   ]
  },
  {
   "cell_type": "code",
   "execution_count": 2,
   "id": "e1ca79da",
   "metadata": {},
   "outputs": [
    {
     "name": "stdout",
     "output_type": "stream",
     "text": [
      "Requirement already satisfied: simple_colors in c:\\users\\hp\\appdata\\roaming\\python\\python311\\site-packages (0.1.5)\n",
      "Note: you may need to restart the kernel to use updated packages.\n"
     ]
    }
   ],
   "source": [
    "pip install simple_colors"
   ]
  },
  {
   "cell_type": "code",
   "execution_count": 3,
   "id": "ca10283f",
   "metadata": {},
   "outputs": [],
   "source": [
    "import simple_colors as color"
   ]
  },
  {
   "cell_type": "code",
   "execution_count": 12,
   "id": "a659ea53",
   "metadata": {},
   "outputs": [],
   "source": [
    "import tkinter as tk\n",
    "import simple_colors as color\n",
    "\n",
    "participants = {}  # Dictionary to store participants and their expenses\n",
    "expenses = {}  # Dictionary to store expenses and their amounts\n",
    "\n",
    "def add_participant():\n",
    "    participant_name = participant_entry.get()\n",
    "    if participant_name:\n",
    "        participants_listbox.insert(tk.END, participant_name)\n",
    "        participants[participant_name] = 0\n",
    "        participant_entry.delete(0, tk.END)\n",
    "\n",
    "def add_expense():\n",
    "    expense_description = expense_description_entry.get()\n",
    "    expense_amount = float(expense_amount_entry.get())\n",
    "    if expense_description and expense_amount > 0:\n",
    "        expenses_listbox.insert(tk.END, f\"{expense_description}: ${expense_amount:.2f}\")\n",
    "        expenses[expense_description] = expense_amount\n",
    "        expense_description_entry.delete(0, tk.END)\n",
    "        expense_amount_entry.delete(0, tk.END)\n",
    "\n",
    "def calculate_expenses():\n",
    "    total_expenses = sum(expenses.values())\n",
    "    num_participants = len(participants)\n",
    "\n",
    "    if num_participants == 0:\n",
    "        result_text.config(text=color.red(\"No participants found.\", 'bold'))\n",
    "        return\n",
    "\n",
    "    individual_share = total_expenses / num_participants\n",
    "\n",
    "    for participant in participants:\n",
    "        participants[participant] = individual_share\n",
    "\n",
    "    result_text.config(text=color.green(\"Expenses calculated successfully!\", 'bold'))\n",
    "\n",
    "def display_summary():\n",
    "    summary_text.config(state=tk.NORMAL)\n",
    "    summary_text.delete(1.0, tk.END)\n",
    "    summary_text.insert(tk.END, \"Expense Summary:\\n\")\n",
    "    for participant, amount in participants.items():\n",
    "        summary_text.insert(tk.END, f\"{participant}: ${amount:.2f}\\n\")\n",
    "    summary_text.insert(tk.END, \"\\nExpenses:\\n\")\n",
    "    for description, amount in expenses.items():\n",
    "        formatted_expense = f\"{description}: ${amount:.2f}\\n\"\n",
    "        if amount > 0:\n",
    "            summary_text.insert(tk.END, formatted_expense, \"green\")\n",
    "        else:\n",
    "            summary_text.insert(tk.END, formatted_expense, \"red\")\n",
    "    summary_text.config(state=tk.DISABLED)\n",
    "\n",
    "app = tk.Tk()\n",
    "app.title(\"Expense Splitter\")\n",
    "\n",
    "# Main Frame\n",
    "main_frame = tk.Frame(app)\n",
    "\n",
    "# Logo Label\n",
    "logo_label = tk.Label(main_frame, text=\"Expense Splitter\", font=(\"Arial\", 16, \"bold\"))\n",
    "logo_label.pack(pady=10)\n",
    "\n",
    "# Participants\n",
    "participants_label = tk.Label(main_frame, text=\"Participants:\")\n",
    "participants_label.pack()\n",
    "\n",
    "participant_entry = tk.Entry(main_frame)\n",
    "participant_entry.pack()\n",
    "\n",
    "add_participant_button = tk.Button(main_frame, text=\"Add Participant\", command=add_participant)\n",
    "add_participant_button.pack(pady=5)\n",
    "\n",
    "participants_listbox = tk.Listbox(main_frame)\n",
    "participants_listbox.pack()\n",
    "\n",
    "# Expenses\n",
    "expense_description_label = tk.Label(main_frame, text=\"Expense Description:\")\n",
    "expense_description_label.pack()\n",
    "\n",
    "expense_description_entry = tk.Entry(main_frame)\n",
    "expense_description_entry.pack()\n",
    "\n",
    "expense_amount_label = tk.Label(main_frame, text=\"Expense Amount:\")\n",
    "expense_amount_label.pack()\n",
    "\n",
    "expense_amount_entry = tk.Entry(main_frame)\n",
    "expense_amount_entry.pack()\n",
    "\n",
    "add_expense_button = tk.Button(main_frame, text=\"Add Expense\", command=add_expense)\n",
    "add_expense_button.pack(pady=5)\n",
    "\n",
    "expenses_listbox = tk.Listbox(main_frame)\n",
    "expenses_listbox.pack()\n",
    "\n",
    "# Calculate and Display Summary\n",
    "calculate_button = tk.Button(main_frame, text=\"Calculate Expenses\", command=lambda: [calculate_expenses(), display_summary()])\n",
    "calculate_button.pack(pady=10)\n",
    "\n",
    "result_text = tk.Label(main_frame, text=\"\", font=(\"Arial\", 12))\n",
    "result_text.pack()\n",
    "\n",
    "summary_text = tk.Text(main_frame, height=10, width=50)\n",
    "summary_text.pack()\n",
    "summary_text.config(state=tk.DISABLED)\n",
    "\n",
    "summary_text.tag_configure(\"red\", foreground=\"red\")\n",
    "summary_text.tag_configure(\"green\", foreground=\"green\")\n",
    "\n",
    "main_frame.pack() \n",
    "\n",
    "app.mainloop()\n"
   ]
  },
  {
   "cell_type": "code",
   "execution_count": null,
   "id": "90c5190c",
   "metadata": {},
   "outputs": [],
   "source": []
  }
 ],
 "metadata": {
  "kernelspec": {
   "display_name": "Python 3 (ipykernel)",
   "language": "python",
   "name": "python3"
  },
  "language_info": {
   "codemirror_mode": {
    "name": "ipython",
    "version": 3
   },
   "file_extension": ".py",
   "mimetype": "text/x-python",
   "name": "python",
   "nbconvert_exporter": "python",
   "pygments_lexer": "ipython3",
   "version": "3.11.3"
  }
 },
 "nbformat": 4,
 "nbformat_minor": 5
}
